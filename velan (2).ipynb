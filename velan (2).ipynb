{
 "cells": [
  {
   "cell_type": "markdown",
   "id": "2b647639",
   "metadata": {},
   "source": [
    "  #                                      PYTHON ASSIGNMENT"
   ]
  },
  {
   "cell_type": "markdown",
   "id": "9bb67d06",
   "metadata": {},
   "source": [
    "## NAME: S.VELAN\n",
    "## REG NO: 21UAI102\n",
    "## DEPT: AI & DS"
   ]
  },
  {
   "cell_type": "markdown",
   "id": "1e7f6cc0",
   "metadata": {},
   "source": [
    "## ----------------------------------------------------------------------------------------------------------------------------------"
   ]
  },
  {
   "cell_type": "markdown",
   "id": "ba99f4a6",
   "metadata": {},
   "source": [
    "## Write a function called show stars(rows)"
   ]
  },
  {
   "cell_type": "code",
   "execution_count": 38,
   "id": "8a569c83",
   "metadata": {},
   "outputs": [
    {
     "name": "stdout",
     "output_type": "stream",
     "text": [
      "* \r\n",
      "* * \r\n",
      "* * * \r\n",
      "* * * * \r\n",
      "* * * * * \r\n"
     ]
    }
   ],
   "source": [
    "row = 5\n",
    "for i in range(0, row):\n",
    "    for j in range(0, i + 1):\n",
    "        print(\"*\", end=' ')\n",
    "    print(\"\\r\")"
   ]
  },
  {
   "cell_type": "markdown",
   "id": "0756ac94",
   "metadata": {},
   "source": [
    "## Write a program to remove characters from a string starting from zero up to n and return a new string"
   ]
  },
  {
   "cell_type": "code",
   "execution_count": 1,
   "id": "c0781343",
   "metadata": {},
   "outputs": [
    {
     "name": "stdout",
     "output_type": "stream",
     "text": [
      "Original String :  v;e:l!a*t;n!\n",
      "Resultant list is :  velatn\n"
     ]
    }
   ],
   "source": [
    "sym = [';', ':', '!', \"*\", \" \"]\n",
    "string = \"v;e:l!a*t;n!\"\n",
    "print (\"Original String : \" , string)\n",
    "for i in sym :\n",
    "    string = string.replace(i, '')\n",
    "print (\"Resultant list is : \" , str(string))"
   ]
  },
  {
   "cell_type": "markdown",
   "id": "6117d3c3",
   "metadata": {},
   "source": [
    "## Iterate the given list of numbers and print only those numbers which are divisible by 5\n",
    "\n"
   ]
  },
  {
   "cell_type": "code",
   "execution_count": 40,
   "id": "9831ba1b",
   "metadata": {},
   "outputs": [
    {
     "name": "stdout",
     "output_type": "stream",
     "text": [
      "the value is : 5\n",
      "the value is : 10\n"
     ]
    }
   ],
   "source": [
    "b=[1,2,3,4,5,6,7,8,9,10]\n",
    "for i in b:\n",
    "    if(i%5==0):\n",
    "        print('the value is :',i)\n",
    "    else :\n",
    "        continue"
   ]
  },
  {
   "cell_type": "markdown",
   "id": "e0c4c5d7",
   "metadata": {},
   "source": [
    "## Write a program to find how many times substring “Hi” appears in the given string"
   ]
  },
  {
   "cell_type": "code",
   "execution_count": 41,
   "id": "655cd0c0",
   "metadata": {},
   "outputs": [
    {
     "name": "stdout",
     "output_type": "stream",
     "text": [
      "enter the string:hi hi hi\n",
      "the number of times the word hi is displayed is :  3\n"
     ]
    }
   ],
   "source": [
    "a=input(\"enter the string:\")\n",
    "print(\"the number of times the word hi is displayed is : \",a.count('hi'))"
   ]
  },
  {
   "cell_type": "markdown",
   "id": "b55af1c0",
   "metadata": {},
   "source": [
    "## Print the following pattern\n",
    "## 1 \n",
    "## 2 2 \n",
    "## 3 3 3 \n",
    "## 4 4 4 4 \n",
    "## 5 5 5 5 5\n"
   ]
  },
  {
   "cell_type": "code",
   "execution_count": 42,
   "id": "20cf1b30",
   "metadata": {},
   "outputs": [
    {
     "name": "stdout",
     "output_type": "stream",
     "text": [
      "\n",
      "1 \n",
      "2 2 \n",
      "3 3 3 \n",
      "4 4 4 4 \n",
      "5 5 5 5 5 \n"
     ]
    }
   ],
   "source": [
    "row = 6\n",
    "for i in range(row):\n",
    "    \n",
    "    for j in range(i):\n",
    "        print(i, end=' ')\n",
    "    print('')"
   ]
  },
  {
   "cell_type": "markdown",
   "id": "a241c7f9",
   "metadata": {},
   "source": [
    "#                                              LIST"
   ]
  },
  {
   "cell_type": "markdown",
   "id": "a7c6a9d2",
   "metadata": {},
   "source": [
    "## Python program to interchange first and last elements in a list"
   ]
  },
  {
   "cell_type": "code",
   "execution_count": 43,
   "id": "7f4d296b",
   "metadata": {},
   "outputs": [
    {
     "name": "stdout",
     "output_type": "stream",
     "text": [
      "[19, 14, 6, 9, 56, 10]\n",
      "Swapped list:  [10, 14, 6, 9, 56, 19]\n"
     ]
    }
   ],
   "source": [
    "def swapL(sl):\n",
    "    n = len(sl)\n",
    "      \n",
    "    # Swapping \n",
    "    temp = sl[0]\n",
    "    sl[0] = sl[n - 1]\n",
    "    sl[n - 1] = temp\n",
    "      \n",
    "    return sl\n",
    "      \n",
    "l = [19, 14, 6, 9, 56, 10]\n",
    "\n",
    "print(l)\n",
    "print(\"Swapped list: \",swapL(l))"
   ]
  },
  {
   "cell_type": "markdown",
   "id": "827003a7",
   "metadata": {},
   "source": [
    "## Python program to swap two elements in a list"
   ]
  },
  {
   "cell_type": "code",
   "execution_count": 44,
   "id": "07839ecc",
   "metadata": {},
   "outputs": [
    {
     "name": "stdout",
     "output_type": "stream",
     "text": [
      "[10, 14, 5, 9, 56, 12]\n",
      "Swapped list:  [10, 56, 5, 9, 14, 12]\n"
     ]
    }
   ],
   "source": [
    "def swapL(sl,pos1,pos2):\n",
    "    n = len(sl)     \n",
    "    # Swapping \n",
    "    temp = sl[pos1]\n",
    "    sl[pos1] = sl[pos2]\n",
    "    sl[pos2] = temp\n",
    "    return sl      \n",
    "\n",
    "l= [10, 14, 5, 9, 56, 12]\n",
    "pos1= 2\n",
    "pos2= 5\n",
    "\n",
    "print(l)\n",
    "print(\"Swapped list: \",swapL(l,pos1-1,pos2-1))\n"
   ]
  },
  {
   "cell_type": "markdown",
   "id": "8c56fada",
   "metadata": {},
   "source": [
    "## Python  Ways to find length of list"
   ]
  },
  {
   "cell_type": "code",
   "execution_count": 45,
   "id": "84078673",
   "metadata": {},
   "outputs": [
    {
     "name": "stdout",
     "output_type": "stream",
     "text": [
      "5\n"
     ]
    }
   ],
   "source": [
    "inp = ['Python','Java','c','Machine Learning','c++']\n",
    "size = len(inp)\n",
    "print(size)"
   ]
  },
  {
   "cell_type": "markdown",
   "id": "50097ea9",
   "metadata": {},
   "source": [
    "## Maximum of two numbers in Python"
   ]
  },
  {
   "cell_type": "code",
   "execution_count": 46,
   "id": "d7584e03",
   "metadata": {},
   "outputs": [
    {
     "name": "stdout",
     "output_type": "stream",
     "text": [
      "9\n"
     ]
    }
   ],
   "source": [
    "a = [2,2,5,6,9]\n",
    "\n",
    "  \n",
    "maximum = max(a )\n",
    "print(maximum)"
   ]
  },
  {
   "cell_type": "markdown",
   "id": "970c0ac2",
   "metadata": {},
   "source": [
    "## Minimum of two numbers in Python"
   ]
  },
  {
   "cell_type": "code",
   "execution_count": 16,
   "id": "d40b94cf",
   "metadata": {},
   "outputs": [
    {
     "name": "stdout",
     "output_type": "stream",
     "text": [
      "2\n"
     ]
    }
   ],
   "source": [
    "a = [2,2,5,6,9]\n",
    "\n",
    "  \n",
    "minimum = min(a )\n",
    "print(minimum)"
   ]
  },
  {
   "cell_type": "markdown",
   "id": "eceb757d",
   "metadata": {},
   "source": [
    "## STRING"
   ]
  },
  {
   "cell_type": "markdown",
   "id": "6c283c95",
   "metadata": {},
   "source": [
    "## Python program to check whether the string is Symmetrical or Palindrome"
   ]
  },
  {
   "cell_type": "code",
   "execution_count": 51,
   "id": "475d0ecc",
   "metadata": {},
   "outputs": [
    {
     "name": "stdout",
     "output_type": "stream",
     "text": [
      "enter the string:hi\n",
      "it is not a pallindrome\n"
     ]
    }
   ],
   "source": [
    "a=(input(\"enter the string:\"))\n",
    "x=a[::-1]\n",
    "if a==x:\n",
    "    print('the given string is a pallindrome')\n",
    "else:\n",
    "    print('it is not a pallindrome')\n"
   ]
  },
  {
   "cell_type": "markdown",
   "id": "2035acb3",
   "metadata": {},
   "source": [
    "## Reverse words in a given String in Python"
   ]
  },
  {
   "cell_type": "code",
   "execution_count": 2,
   "id": "3351fe01",
   "metadata": {},
   "outputs": [
    {
     "name": "stdout",
     "output_type": "stream",
     "text": [
      "velan im you Hey\n"
     ]
    }
   ],
   "source": [
    "string = \"Hey you im velan\"\n",
    "\n",
    "s = string.split()[::-1]\n",
    "l = []\n",
    "for i in s:\n",
    "    \n",
    "    l.append(i)\n",
    "\n",
    "print(\" \".join(l))"
   ]
  },
  {
   "cell_type": "markdown",
   "id": "49c0382c",
   "metadata": {},
   "source": [
    "## Ways to remove i’th character from string in Python"
   ]
  },
  {
   "cell_type": "code",
   "execution_count": 3,
   "id": "b2917456",
   "metadata": {},
   "outputs": [
    {
     "name": "stdout",
     "output_type": "stream",
     "text": [
      "Enter a string ::velan\n",
      "Enter the index to remove ::4\n",
      "The new string is ::\n",
      "vela\n"
     ]
    }
   ],
   "source": [
    "def removechar(str1, n): \n",
    "   x = str1[ : n]   \n",
    "   y = str1[n + 1: ]\n",
    "   return x + y\n",
    "if __name__ == '__main__':\n",
    "   str1 = input(\"Enter a string ::\")\n",
    "   n = int(input(\"Enter the index to remove ::\"))\n",
    "   print(\"The new string is ::\")\n",
    "   print(removechar(str1, n))"
   ]
  },
  {
   "cell_type": "markdown",
   "id": "899d5cef",
   "metadata": {},
   "source": [
    "# TUPLE"
   ]
  },
  {
   "cell_type": "markdown",
   "id": "25b801c0",
   "metadata": {},
   "source": [
    "## Python program to Find the size of a Tuple"
   ]
  },
  {
   "cell_type": "code",
   "execution_count": 54,
   "id": "a0108131",
   "metadata": {},
   "outputs": [
    {
     "data": {
      "text/plain": [
       "64"
      ]
     },
     "execution_count": 54,
     "metadata": {},
     "output_type": "execute_result"
    }
   ],
   "source": [
    "a=(1,2,3,4,5)\n",
    "b=a.__sizeof__()\n",
    "b"
   ]
  },
  {
   "cell_type": "markdown",
   "id": "69bf6331",
   "metadata": {},
   "source": [
    "## Python – Maximum and Minimum K elements in Tuple"
   ]
  },
  {
   "cell_type": "code",
   "execution_count": 55,
   "id": "16c15971",
   "metadata": {},
   "outputs": [
    {
     "name": "stdout",
     "output_type": "stream",
     "text": [
      "5\n",
      "1\n"
     ]
    }
   ],
   "source": [
    "a=(1,2,3,4,5)\n",
    "x=max(a)\n",
    "y=min(a)\n",
    "print(x)\n",
    "print(y)"
   ]
  },
  {
   "cell_type": "markdown",
   "id": "d7875c9d",
   "metadata": {},
   "source": [
    "## Python – Sum of tuple elements"
   ]
  },
  {
   "cell_type": "code",
   "execution_count": 56,
   "id": "f7f07c3f",
   "metadata": {},
   "outputs": [
    {
     "name": "stdout",
     "output_type": "stream",
     "text": [
      "26\n"
     ]
    }
   ],
   "source": [
    "a=(13,13)\n",
    "x=sum(a)\n",
    "print(x)"
   ]
  },
  {
   "cell_type": "markdown",
   "id": "f878dc86",
   "metadata": {},
   "source": [
    "## DICTIONARY"
   ]
  },
  {
   "cell_type": "markdown",
   "id": "60f17bbf",
   "metadata": {},
   "source": [
    "## Python | Sort Python Dictionaries by Key or Value"
   ]
  },
  {
   "cell_type": "code",
   "execution_count": 27,
   "id": "7058ab15",
   "metadata": {},
   "outputs": [
    {
     "name": "stdout",
     "output_type": "stream",
     "text": [
      "['key1', 'key2', 'key3']\n"
     ]
    }
   ],
   "source": [
    "#by keys\n",
    "\n",
    "d={\"key1\":\"1\",\"key3\":\"5\",\"key2\":\"4\"}\n",
    "print(sorted(d))\n"
   ]
  },
  {
   "cell_type": "code",
   "execution_count": 28,
   "id": "46a7f317",
   "metadata": {},
   "outputs": [
    {
     "name": "stdout",
     "output_type": "stream",
     "text": [
      "{1: 1, 2: 4, 10: 9}\n"
     ]
    }
   ],
   "source": [
    "#by values \n",
    "\n",
    "dict1 = {1: 1, 10: 9, 2: 4}\n",
    "sorted_values = sorted(dict1.values()) # Sort the values\n",
    "sorted_dict = {}\n",
    "\n",
    "for i in sorted_values:\n",
    "    for k in dict1.keys():\n",
    "        if dict1[k] == i:\n",
    "            sorted_dict[k] = dict1[k]\n",
    "            break\n",
    "\n",
    "print(sorted_dict)# sort by values"
   ]
  },
  {
   "cell_type": "markdown",
   "id": "2836fb17",
   "metadata": {},
   "source": [
    "## Python dictionary with keys having multiple inputs"
   ]
  },
  {
   "cell_type": "code",
   "execution_count": 30,
   "id": "d436e6af",
   "metadata": {},
   "outputs": [
    {
     "name": "stdout",
     "output_type": "stream",
     "text": [
      "{(10, 20, 30): 0, (5, 2, 4): 3}\n"
     ]
    }
   ],
   "source": [
    "import random as r\n",
    "dict = {}\n",
    " \n",
    "x, y, z = 10, 20, 30\n",
    "dict[x, y, z] = x + y - z;\n",
    " \n",
    "x, y, z = 5, 2, 4\n",
    "dict[x, y, z] = x + y - z;\n",
    " \n",
    "print(dict)"
   ]
  },
  {
   "cell_type": "markdown",
   "id": "83c16239",
   "metadata": {},
   "source": [
    "# SET"
   ]
  },
  {
   "cell_type": "markdown",
   "id": "217d61f5",
   "metadata": {},
   "source": [
    "## Find the size of a Set in Python"
   ]
  },
  {
   "cell_type": "code",
   "execution_count": 31,
   "id": "0cb1810e",
   "metadata": {},
   "outputs": [
    {
     "data": {
      "text/plain": [
       "456"
      ]
     },
     "execution_count": 31,
     "metadata": {},
     "output_type": "execute_result"
    }
   ],
   "source": [
    "a={1,2,3,4,5}\n",
    "a.__sizeof__()"
   ]
  },
  {
   "cell_type": "markdown",
   "id": "f71a2796",
   "metadata": {},
   "source": [
    "## Iterate over a set in Python"
   ]
  },
  {
   "cell_type": "code",
   "execution_count": 32,
   "id": "d5ae0299",
   "metadata": {},
   "outputs": [
    {
     "name": "stdout",
     "output_type": "stream",
     "text": [
      "the element is : 1\n",
      "the element is : 2\n",
      "the element is : 3\n",
      "the element is : 4\n",
      "the element is : 5\n"
     ]
    }
   ],
   "source": [
    "a={1,2,3,4,5}\n",
    "for i in a:\n",
    "    print('the element is :',i)"
   ]
  },
  {
   "cell_type": "markdown",
   "id": "29b66fa5",
   "metadata": {},
   "source": [
    "# MATRIX"
   ]
  },
  {
   "cell_type": "markdown",
   "id": "79f64058",
   "metadata": {},
   "source": [
    "## Python – Assigning Subsequent Rows to Matrix first row elements"
   ]
  },
  {
   "cell_type": "code",
   "execution_count": 33,
   "id": "61e7417a",
   "metadata": {},
   "outputs": [
    {
     "name": "stdout",
     "output_type": "stream",
     "text": [
      "The original list :  [[1, 2, 3], [4, 5, 6], [7, 8, 9], [10, 11, 12]]\n",
      "The Assigned Matrix :  {1: [4, 5, 6], 2: [7, 8, 9], 3: [10, 11, 12]}\n"
     ]
    }
   ],
   "source": [
    "list = [[1, 2, 3], [4, 5, 6], [7, 8, 9], [10, 11, 12]]\n",
    "print(\"The original list : \",str(list))\n",
    "res = {list[0][ele] :  list[ele + 1] for ele in range(len(list) - 1)}\n",
    "print(\"The Assigned Matrix : \", str(res))"
   ]
  },
  {
   "cell_type": "markdown",
   "id": "adeee0ed",
   "metadata": {},
   "source": [
    "## Adding and Subtracting Matrices in Python"
   ]
  },
  {
   "cell_type": "code",
   "execution_count": 34,
   "id": "ee5cf87f",
   "metadata": {},
   "outputs": [
    {
     "name": "stdout",
     "output_type": "stream",
     "text": [
      "Printing elements of first matrix\n",
      "[[1 2]\n",
      " [3 4]]\n",
      "Printing elements of second matrix\n",
      "[[4 5]\n",
      " [6 7]]\n",
      "Addition of two matrix\n",
      "[[ 5  7]\n",
      " [ 9 11]]\n"
     ]
    }
   ],
   "source": [
    "import numpy as np\n",
    "A = np.array([[1, 2], [3, 4]])\n",
    "B = np.array([[4, 5], [6, 7]])\n",
    "print(\"Printing elements of first matrix\")\n",
    "print(A)\n",
    "print(\"Printing elements of second matrix\")\n",
    "print(B)\n",
    "print(\"Addition of two matrix\")\n",
    "print(np.add(A, B))"
   ]
  },
  {
   "cell_type": "markdown",
   "id": "73630d4f",
   "metadata": {},
   "source": [
    "# FUNCTIONS"
   ]
  },
  {
   "cell_type": "markdown",
   "id": "a030c7ba",
   "metadata": {},
   "source": [
    "## How to get list of parameters name from a function in Python?"
   ]
  },
  {
   "cell_type": "code",
   "execution_count": 35,
   "id": "9904a64c",
   "metadata": {},
   "outputs": [
    {
     "name": "stdout",
     "output_type": "stream",
     "text": [
      "(a, b)\n"
     ]
    }
   ],
   "source": [
    "def fun(a,b):\n",
    "    return a**b \n",
    "import inspect  \n",
    "print(inspect.signature(fun))"
   ]
  },
  {
   "cell_type": "markdown",
   "id": "1eb7722f",
   "metadata": {},
   "source": [
    "## How to Print Multiple Arguments in Python?"
   ]
  },
  {
   "cell_type": "code",
   "execution_count": 4,
   "id": "1d31cf30",
   "metadata": {},
   "outputs": [
    {
     "name": "stdout",
     "output_type": "stream",
     "text": [
      "Hey you im  velan,  hi\n"
     ]
    }
   ],
   "source": [
    "def a(name, nam1):\n",
    "    print(\"Hey you im \", name +', ' , nam1)\n",
    "a(\"velan\", \"hi\")"
   ]
  },
  {
   "cell_type": "code",
   "execution_count": null,
   "id": "4cbbde39",
   "metadata": {},
   "outputs": [],
   "source": []
  }
 ],
 "metadata": {
  "kernelspec": {
   "display_name": "Python 3 (ipykernel)",
   "language": "python",
   "name": "python3"
  },
  "language_info": {
   "codemirror_mode": {
    "name": "ipython",
    "version": 3
   },
   "file_extension": ".py",
   "mimetype": "text/x-python",
   "name": "python",
   "nbconvert_exporter": "python",
   "pygments_lexer": "ipython3",
   "version": "3.9.12"
  }
 },
 "nbformat": 4,
 "nbformat_minor": 5
}
